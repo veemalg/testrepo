{
 "cells": [
  {
   "cell_type": "markdown",
   "id": "5fe05c68",
   "metadata": {},
   "source": [
    "# My Jupyter Notebook on IBM Watson Studio"
   ]
  },
  {
   "cell_type": "markdown",
   "id": "08b418b0",
   "metadata": {},
   "source": [
    "**Veemal Govind**"
   ]
  },
  {
   "cell_type": "markdown",
   "id": "a4b3750e",
   "metadata": {},
   "source": [
    "*I'd like to further my career by advancing into data science.*"
   ]
  },
  {
   "cell_type": "markdown",
   "id": "49bab9d5",
   "metadata": {},
   "source": [
    "### The sum of 1 + 1:"
   ]
  },
  {
   "cell_type": "code",
   "execution_count": 5,
   "id": "11d688bf",
   "metadata": {},
   "outputs": [
    {
     "data": {
      "text/plain": [
       "2"
      ]
     },
     "execution_count": 5,
     "metadata": {},
     "output_type": "execute_result"
    }
   ],
   "source": [
    "1 + 1"
   ]
  },
  {
   "cell_type": "markdown",
   "id": "7878ad38",
   "metadata": {},
   "source": [
    "- First Number is 1"
   ]
  },
  {
   "cell_type": "markdown",
   "id": "e2695b92",
   "metadata": {},
   "source": [
    "- ~Second Number is 3~"
   ]
  },
  {
   "cell_type": "markdown",
   "id": "ca8cf7fe",
   "metadata": {},
   "source": [
    "- Second Number is 2"
   ]
  },
  {
   "cell_type": "code",
   "execution_count": null,
   "id": "b9b82c4b",
   "metadata": {},
   "outputs": [],
   "source": []
  }
 ],
 "metadata": {
  "kernelspec": {
   "display_name": "Python 3 (ipykernel)",
   "language": "python",
   "name": "python3"
  },
  "language_info": {
   "codemirror_mode": {
    "name": "ipython",
    "version": 3
   },
   "file_extension": ".py",
   "mimetype": "text/x-python",
   "name": "python",
   "nbconvert_exporter": "python",
   "pygments_lexer": "ipython3",
   "version": "3.9.12"
  }
 },
 "nbformat": 4,
 "nbformat_minor": 5
}
